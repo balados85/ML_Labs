{
  "nbformat": 4,
  "nbformat_minor": 0,
  "metadata": {
    "colab": {
      "name": "Assignment Computer Vision.ipynb",
      "provenance": [],
      "authorship_tag": "ABX9TyON4vw6NRaBVw+CRS46SS7V",
      "include_colab_link": true
    },
    "kernelspec": {
      "name": "python3",
      "display_name": "Python 3"
    },
    "language_info": {
      "name": "python"
    }
  },
  "cells": [
    {
      "cell_type": "markdown",
      "metadata": {
        "id": "view-in-github",
        "colab_type": "text"
      },
      "source": [
        "<a href=\"https://colab.research.google.com/github/balados85/ML_Labs/blob/main/Assignment_Computer_Vision_mandatory.ipynb\" target=\"_parent\"><img src=\"https://colab.research.google.com/assets/colab-badge.svg\" alt=\"Open In Colab\"/></a>"
      ]
    },
    {
      "cell_type": "markdown",
      "metadata": {
        "id": "B4mvoCMg6o3l"
      },
      "source": [
        "# **Assignment 1 - Computer vision: Based on Keras**"
      ]
    },
    {
      "cell_type": "markdown",
      "metadata": {
        "id": "sswx6OXe7LhN"
      },
      "source": [
        "##**Loading FashionMNIST data**"
      ]
    },
    {
      "cell_type": "code",
      "metadata": {
        "id": "HE9XhFWt7XCz",
        "colab": {
          "base_uri": "https://localhost:8080/"
        },
        "outputId": "959ceb77-6fcb-4be0-9f8a-4da98134dc06"
      },
      "source": [
        "import numpy as np\n",
        "import tensorflow as tf\n",
        "import tensorflow_datasets as tfds\n",
        "from keras.models import Sequential\n",
        "import matplotlib.pyplot as plt\n",
        "from tensorflow.keras import layers, models\n",
        "from sklearn.model_selection import train_test_split\n",
        "from tensorflow.keras.backend import clear_session\n",
        "from keras.layers.core import Dense, Dropout, Activation, Flatten\n",
        "from keras.layers import Conv2D, MaxPooling2D\n",
        "from keras.preprocessing.image import ImageDataGenerator, array_to_img, img_to_array, load_img\n",
        "from google.colab import drive\n",
        "drive.mount('/content/drive')"
      ],
      "execution_count": 115,
      "outputs": [
        {
          "output_type": "stream",
          "name": "stdout",
          "text": [
            "Drive already mounted at /content/drive; to attempt to forcibly remount, call drive.mount(\"/content/drive\", force_remount=True).\n"
          ]
        }
      ]
    },
    {
      "cell_type": "code",
      "metadata": {
        "id": "-mIt1tWqBTfn"
      },
      "source": [
        "def load_data():\n",
        "  (training_set, test_set), ds_info = tfds.load(\n",
        "    'fashion_mnist',\n",
        "    split=['train', 'test'],\n",
        "    shuffle_files=True,\n",
        "    as_supervised=True,\n",
        "    batch_size = -1,\n",
        "    with_info=True,)\n",
        "  \n",
        "  ##Split training data into training and validation and scaling the data\n",
        "  training_data, validation_data, training_labels, validation_labels = train_test_split(training_set[0].numpy(), training_set[1].numpy(),train_size=0.7, test_size = 0.3, random_state=100)\n",
        "  training_data  = training_data/255.0        ## rescaling the data\n",
        "  validation_data = validation_data/255.0     ## rescaling the data\n",
        "\n",
        "  test_data = test_set[0].numpy()\n",
        "  test_labels = test_set[1].numpy()\n",
        "  test_data = test_data / 255.0\n",
        "\n",
        "  ##Plot a sample of the data\n",
        "  fig = plt.figure(figsize=(8,8))\n",
        "  for i in range(1,10):\n",
        "    fig.add_subplot(3,3,i)\n",
        "    plt.imshow(training_data[i].squeeze())\n",
        "    plt.grid(False)\n",
        "\n",
        "  return training_data, training_labels, validation_data, validation_labels, test_data, test_labels"
      ],
      "execution_count": 80,
      "outputs": []
    },
    {
      "cell_type": "markdown",
      "metadata": {
        "id": "gCmT-mBY_ppQ"
      },
      "source": [
        "##**Building Multi Layer Perceptron**"
      ]
    },
    {
      "cell_type": "code",
      "metadata": {
        "id": "G23Mk5CyAHll"
      },
      "source": [
        "def mlp_model():\n",
        "  input_shape = (28,28)\n",
        "  layers = [512, 320, 128]\n",
        "  output_features = 10\n",
        "\n",
        "  model = tf.keras.Sequential([\n",
        "        tf.keras.layers.Flatten(input_shape=(input_shape)),\n",
        "        tf.keras.layers.Dense(layers[0], activation = \"relu\"),\n",
        "        tf.keras.layers.Dense(layers[1], activation=\"relu\"),\n",
        "        tf.keras.layers.Dense(layers[2], activation=\"relu\"),\n",
        "        tf.keras.layers.Dense(output_features, activation=\"softmax\")                 \n",
        "  ])\n",
        "  model.compile(optimizer = \"adam\", loss = tf.losses.sparse_categorical_crossentropy, metrics = ['accuracy'])\n",
        "  return model"
      ],
      "execution_count": 81,
      "outputs": []
    },
    {
      "cell_type": "markdown",
      "metadata": {
        "id": "8e-REWKoTQAs"
      },
      "source": [
        "##**Model evaluation**"
      ]
    },
    {
      "cell_type": "code",
      "metadata": {
        "id": "-0Qd1I3qG6hO"
      },
      "source": [
        "def evaluate_model(model, train_data, train_label, val_data, val_labels, test_data, test_label):\n",
        "  #model = mlp_model()\n",
        "  hist = model.fit(x = train_data, y = train_label, batch_size = 32, epochs = 25, verbose = 1, validation_data = (val_data, val_labels))\n",
        "  _, score_acc = model.evaluate(test_data, test_label)\n",
        "  pred = model.predict(x = test_data, batch_size=32)\n",
        "  y_pred = y_pred = np.argmax(pred, axis=1)\n",
        "  return score_acc,hist"
      ],
      "execution_count": 82,
      "outputs": []
    },
    {
      "cell_type": "code",
      "metadata": {
        "id": "OALuhep0IqoC"
      },
      "source": [
        "def plot_training(history):\n",
        "    fig, axs = plt.subplots(1,2,figsize=(16,5)) \n",
        "    axs[0].plot(history.history['accuracy'], color = 'blue') \n",
        "    axs[0].plot(history.history['val_accuracy'], color = 'red') \n",
        "    axs[0].set_title('Model Accuracy') \n",
        "    axs[0].set_ylabel('Accuracy') \n",
        "    axs[0].set_xlabel('Epoch') \n",
        "    axs[0].legend(['train', 'validate'], loc='upper left') \n",
        "    \n",
        "    axs[1].plot(history.history['loss'], color = 'blue') \n",
        "    axs[1].plot(history.history['val_loss'], color = 'red') \n",
        "    axs[1].set_title('Model Loss') \n",
        "    axs[1].set_ylabel('Loss') \n",
        "    axs[1].set_xlabel('Epoch') \n",
        "    axs[1].legend(['train', 'validate'], loc='upper right') \n",
        "    plt.show()\n",
        "#plot_training(hist)"
      ],
      "execution_count": 83,
      "outputs": []
    },
    {
      "cell_type": "markdown",
      "metadata": {
        "id": "bHJNlID4U7_z"
      },
      "source": [
        "##**Run putting it all together**"
      ]
    },
    {
      "cell_type": "code",
      "metadata": {
        "id": "aKyjO9fHU7rL"
      },
      "source": [
        "def all_together():\n",
        "  train_data, train_label, val_data, val_labels, test_data, test_label = load_data()\n",
        "  model = mlp_model()\n",
        "  score, history = evaluate_model(model, train_data, train_label, val_data, val_labels, test_data, test_label)\n",
        "  plot_training(history)\n",
        "  print('> %.3f' % (score*100.0))\n",
        "\n",
        "#all_together()"
      ],
      "execution_count": 84,
      "outputs": []
    },
    {
      "cell_type": "markdown",
      "metadata": {
        "id": "OLDWHFEVQDZj"
      },
      "source": [
        "##**Build Convultional network**"
      ]
    },
    {
      "cell_type": "code",
      "metadata": {
        "id": "LmE478wLQCBx"
      },
      "source": [
        "def conv_model():\n",
        "  model = Sequential()\n",
        "  model.add(Conv2D(32, (3,3), input_shape = (28, 28, 1), padding='valid'))\n",
        "  model.add(Activation('relu'))\n",
        "  model.add(MaxPooling2D(2,2))\n",
        "\n",
        "  model.add(Conv2D(32, (3, 3), padding='valid'))\n",
        "  model.add(Activation('relu'))\n",
        "  model.add(MaxPooling2D(pool_size=(2, 2)))\n",
        "\n",
        "  model.add(Conv2D(64, (3, 3), padding='valid'))\n",
        "  model.add(Activation('relu'))\n",
        "  model.add(MaxPooling2D(pool_size=(2, 2)))\n",
        "\n",
        "  model.add(Flatten())\n",
        "  model.add(Dense(64))\n",
        "  model.add(Activation('relu'))\n",
        "  model.add(Dropout(0.5))\n",
        "  model.add(Dense(10))\n",
        "  model.add(Activation('softmax'))\n",
        "\n",
        "  model.compile(optimizer = \"adam\", loss = tf.losses.sparse_categorical_crossentropy, metrics = ['accuracy'])\n",
        "  return model"
      ],
      "execution_count": 85,
      "outputs": []
    },
    {
      "cell_type": "code",
      "metadata": {
        "id": "SVn4A6s-h93I"
      },
      "source": [
        "def all_together():\n",
        "  train_data, train_label, val_data, val_labels, test_data, test_label = load_data()\n",
        "  model = conv_model()\n",
        "  score, history = evaluate_model(model, train_data, train_label, val_data, val_labels, test_data, test_label)\n",
        "  plot_training(history)\n",
        "  print('> %.3f' % (score * 100.0))\n",
        "\n",
        "#all_together()"
      ],
      "execution_count": 86,
      "outputs": []
    },
    {
      "cell_type": "markdown",
      "metadata": {
        "id": "NrtP0tXhi_ly"
      },
      "source": [
        "#**Fine-tune pretrained models**"
      ]
    },
    {
      "cell_type": "markdown",
      "metadata": {
        "id": "JTshsfspi00t"
      },
      "source": [
        "##**Reconstructing some layers in the Conv net**"
      ]
    },
    {
      "cell_type": "code",
      "metadata": {
        "colab": {
          "base_uri": "https://localhost:8080/"
        },
        "id": "Mg98JXOqjGGV",
        "outputId": "05317c1d-57c2-410a-8eff-48f93c2a6010"
      },
      "source": [
        "clear_session()\n",
        "model = conv_model()\n",
        "print(model.summary())\n",
        "transfer_layer = model.get_layer('max_pooling2d_2')\n",
        "conv_model = models.Model(inputs=model.input,outputs=transfer_layer.output)\n",
        "reconstructed_model = Sequential()\n",
        "reconstructed_model.add(conv_model)\n",
        "reconstructed_model.add(Flatten())\n",
        "reconstructed_model.add(Dense(1024, activation='relu'))\n",
        "reconstructed_model.add(Dropout(0.5))\n",
        "reconstructed_model.add(Dense(10, activation='softmax'))\n",
        "\n",
        "reconstructed_model.compile(optimizer = \"adam\", loss = tf.losses.sparse_categorical_crossentropy, metrics = ['accuracy'])\n",
        "print(reconstructed_model.summary())\n",
        "\n",
        "def all_together():\n",
        "  train_data, train_label, val_data, val_labels, test_data, test_label = load_data()\n",
        "  score, history = evaluate_model(reconstructed_model, train_data, train_label, val_data, val_labels, test_data, test_label)\n",
        "  plot_training(history)\n",
        "  print('> %.3f' % (score * 100.0))\n",
        "\n",
        "#all_together()"
      ],
      "execution_count": 87,
      "outputs": [
        {
          "output_type": "stream",
          "name": "stdout",
          "text": [
            "Model: \"sequential\"\n",
            "_________________________________________________________________\n",
            "Layer (type)                 Output Shape              Param #   \n",
            "=================================================================\n",
            "conv2d (Conv2D)              (None, 26, 26, 32)        320       \n",
            "_________________________________________________________________\n",
            "activation (Activation)      (None, 26, 26, 32)        0         \n",
            "_________________________________________________________________\n",
            "max_pooling2d (MaxPooling2D) (None, 13, 13, 32)        0         \n",
            "_________________________________________________________________\n",
            "conv2d_1 (Conv2D)            (None, 11, 11, 32)        9248      \n",
            "_________________________________________________________________\n",
            "activation_1 (Activation)    (None, 11, 11, 32)        0         \n",
            "_________________________________________________________________\n",
            "max_pooling2d_1 (MaxPooling2 (None, 5, 5, 32)          0         \n",
            "_________________________________________________________________\n",
            "conv2d_2 (Conv2D)            (None, 3, 3, 64)          18496     \n",
            "_________________________________________________________________\n",
            "activation_2 (Activation)    (None, 3, 3, 64)          0         \n",
            "_________________________________________________________________\n",
            "max_pooling2d_2 (MaxPooling2 (None, 1, 1, 64)          0         \n",
            "_________________________________________________________________\n",
            "flatten (Flatten)            (None, 64)                0         \n",
            "_________________________________________________________________\n",
            "dense (Dense)                (None, 64)                4160      \n",
            "_________________________________________________________________\n",
            "activation_3 (Activation)    (None, 64)                0         \n",
            "_________________________________________________________________\n",
            "dropout (Dropout)            (None, 64)                0         \n",
            "_________________________________________________________________\n",
            "dense_1 (Dense)              (None, 10)                650       \n",
            "_________________________________________________________________\n",
            "activation_4 (Activation)    (None, 10)                0         \n",
            "=================================================================\n",
            "Total params: 32,874\n",
            "Trainable params: 32,874\n",
            "Non-trainable params: 0\n",
            "_________________________________________________________________\n",
            "None\n",
            "Model: \"sequential_1\"\n",
            "_________________________________________________________________\n",
            "Layer (type)                 Output Shape              Param #   \n",
            "=================================================================\n",
            "model (Functional)           (None, 1, 1, 64)          28064     \n",
            "_________________________________________________________________\n",
            "flatten_1 (Flatten)          (None, 64)                0         \n",
            "_________________________________________________________________\n",
            "dense_2 (Dense)              (None, 1024)              66560     \n",
            "_________________________________________________________________\n",
            "dropout_1 (Dropout)          (None, 1024)              0         \n",
            "_________________________________________________________________\n",
            "dense_3 (Dense)              (None, 10)                10250     \n",
            "=================================================================\n",
            "Total params: 104,874\n",
            "Trainable params: 104,874\n",
            "Non-trainable params: 0\n",
            "_________________________________________________________________\n",
            "None\n"
          ]
        }
      ]
    },
    {
      "cell_type": "markdown",
      "metadata": {
        "id": "dcFaBJVuyw3k"
      },
      "source": [
        "##**Freezing layers**"
      ]
    },
    {
      "cell_type": "code",
      "metadata": {
        "id": "Io57NtqJDKE0"
      },
      "source": [
        "def print_layer_trainable():\n",
        "    for layer in model.layers:\n",
        "        print(\"{0}:\\t{1}\".format(layer.trainable, layer.name))"
      ],
      "execution_count": 88,
      "outputs": []
    },
    {
      "cell_type": "code",
      "metadata": {
        "id": "waoDc8vODJ_D",
        "outputId": "02178c9a-24c8-467f-ed93-dce51bf40108",
        "colab": {
          "base_uri": "https://localhost:8080/"
        }
      },
      "source": [
        "print_layer_trainable()"
      ],
      "execution_count": 89,
      "outputs": [
        {
          "output_type": "stream",
          "name": "stdout",
          "text": [
            "True:\tconv2d\n",
            "True:\tactivation\n",
            "True:\tmax_pooling2d\n",
            "True:\tconv2d_1\n",
            "True:\tactivation_1\n",
            "True:\tmax_pooling2d_1\n",
            "True:\tconv2d_2\n",
            "True:\tactivation_2\n",
            "True:\tmax_pooling2d_2\n",
            "True:\tflatten\n",
            "True:\tdense\n",
            "True:\tactivation_3\n",
            "True:\tdropout\n",
            "True:\tdense_1\n",
            "True:\tactivation_4\n"
          ]
        }
      ]
    },
    {
      "cell_type": "code",
      "metadata": {
        "id": "YUvNS-2f6oos",
        "outputId": "21979cfa-d8e2-4c11-d10f-7add7bff2a1f",
        "colab": {
          "base_uri": "https://localhost:8080/"
        }
      },
      "source": [
        "model.get_layer('conv2d_2').trainable = False\n",
        "model.get_layer('activation_2').trainable = False\n",
        "model.get_layer('max_pooling2d_2').trainable = False\n",
        "\n",
        "print(model.summary())"
      ],
      "execution_count": 90,
      "outputs": [
        {
          "output_type": "stream",
          "name": "stdout",
          "text": [
            "Model: \"sequential\"\n",
            "_________________________________________________________________\n",
            "Layer (type)                 Output Shape              Param #   \n",
            "=================================================================\n",
            "conv2d (Conv2D)              (None, 26, 26, 32)        320       \n",
            "_________________________________________________________________\n",
            "activation (Activation)      (None, 26, 26, 32)        0         \n",
            "_________________________________________________________________\n",
            "max_pooling2d (MaxPooling2D) (None, 13, 13, 32)        0         \n",
            "_________________________________________________________________\n",
            "conv2d_1 (Conv2D)            (None, 11, 11, 32)        9248      \n",
            "_________________________________________________________________\n",
            "activation_1 (Activation)    (None, 11, 11, 32)        0         \n",
            "_________________________________________________________________\n",
            "max_pooling2d_1 (MaxPooling2 (None, 5, 5, 32)          0         \n",
            "_________________________________________________________________\n",
            "conv2d_2 (Conv2D)            (None, 3, 3, 64)          18496     \n",
            "_________________________________________________________________\n",
            "activation_2 (Activation)    (None, 3, 3, 64)          0         \n",
            "_________________________________________________________________\n",
            "max_pooling2d_2 (MaxPooling2 (None, 1, 1, 64)          0         \n",
            "_________________________________________________________________\n",
            "flatten (Flatten)            (None, 64)                0         \n",
            "_________________________________________________________________\n",
            "dense (Dense)                (None, 64)                4160      \n",
            "_________________________________________________________________\n",
            "activation_3 (Activation)    (None, 64)                0         \n",
            "_________________________________________________________________\n",
            "dropout (Dropout)            (None, 64)                0         \n",
            "_________________________________________________________________\n",
            "dense_1 (Dense)              (None, 10)                650       \n",
            "_________________________________________________________________\n",
            "activation_4 (Activation)    (None, 10)                0         \n",
            "=================================================================\n",
            "Total params: 32,874\n",
            "Trainable params: 14,378\n",
            "Non-trainable params: 18,496\n",
            "_________________________________________________________________\n",
            "None\n"
          ]
        }
      ]
    },
    {
      "cell_type": "code",
      "metadata": {
        "id": "Po_72oS6DA7_",
        "outputId": "2cb2589a-b9e0-42d9-80ac-ae0c6222e21c",
        "colab": {
          "base_uri": "https://localhost:8080/"
        }
      },
      "source": [
        "print_layer_trainable()"
      ],
      "execution_count": 91,
      "outputs": [
        {
          "output_type": "stream",
          "name": "stdout",
          "text": [
            "True:\tconv2d\n",
            "True:\tactivation\n",
            "True:\tmax_pooling2d\n",
            "True:\tconv2d_1\n",
            "True:\tactivation_1\n",
            "True:\tmax_pooling2d_1\n",
            "False:\tconv2d_2\n",
            "False:\tactivation_2\n",
            "False:\tmax_pooling2d_2\n",
            "True:\tflatten\n",
            "True:\tdense\n",
            "True:\tactivation_3\n",
            "True:\tdropout\n",
            "True:\tdense_1\n",
            "True:\tactivation_4\n"
          ]
        }
      ]
    },
    {
      "cell_type": "code",
      "metadata": {
        "id": "qpzvcPA1AkjK"
      },
      "source": [
        "def all_together():\n",
        "  train_data, train_label, val_data, val_labels, test_data, test_label = load_data()\n",
        "  score, history = evaluate_model(model, train_data, train_label, val_data, val_labels, test_data, test_label)\n",
        "  plot_training(history)\n",
        "  print('> %.3f' % (score * 100.0))"
      ],
      "execution_count": 92,
      "outputs": []
    },
    {
      "cell_type": "code",
      "metadata": {
        "id": "Vu9ivCp-CAUo",
        "outputId": "1985e5af-0496-497d-d670-743280c8b069",
        "colab": {
          "base_uri": "https://localhost:8080/",
          "height": 1000
        }
      },
      "source": [
        "#all_together()"
      ],
      "execution_count": 93,
      "outputs": [
        {
          "output_type": "stream",
          "name": "stdout",
          "text": [
            "Epoch 1/25\n",
            "1313/1313 [==============================] - 31s 23ms/step - loss: 0.8184 - accuracy: 0.7026 - val_loss: 0.5334 - val_accuracy: 0.8024\n",
            "Epoch 2/25\n",
            "1313/1313 [==============================] - 29s 22ms/step - loss: 0.5575 - accuracy: 0.8014 - val_loss: 0.4633 - val_accuracy: 0.8324\n",
            "Epoch 3/25\n",
            "1313/1313 [==============================] - 29s 22ms/step - loss: 0.4926 - accuracy: 0.8255 - val_loss: 0.4146 - val_accuracy: 0.8479\n",
            "Epoch 4/25\n",
            "1313/1313 [==============================] - 29s 22ms/step - loss: 0.4446 - accuracy: 0.8404 - val_loss: 0.3950 - val_accuracy: 0.8566\n",
            "Epoch 5/25\n",
            "1313/1313 [==============================] - 29s 22ms/step - loss: 0.4097 - accuracy: 0.8536 - val_loss: 0.3717 - val_accuracy: 0.8612\n",
            "Epoch 6/25\n",
            "1313/1313 [==============================] - 29s 22ms/step - loss: 0.3830 - accuracy: 0.8620 - val_loss: 0.3604 - val_accuracy: 0.8698\n",
            "Epoch 7/25\n",
            "1313/1313 [==============================] - 28s 22ms/step - loss: 0.3635 - accuracy: 0.8691 - val_loss: 0.3601 - val_accuracy: 0.8708\n",
            "Epoch 8/25\n",
            "1313/1313 [==============================] - 28s 22ms/step - loss: 0.3467 - accuracy: 0.8742 - val_loss: 0.3392 - val_accuracy: 0.8777\n",
            "Epoch 9/25\n",
            "1313/1313 [==============================] - 28s 22ms/step - loss: 0.3305 - accuracy: 0.8798 - val_loss: 0.3442 - val_accuracy: 0.8777\n",
            "Epoch 10/25\n",
            "1313/1313 [==============================] - 28s 22ms/step - loss: 0.3178 - accuracy: 0.8869 - val_loss: 0.3420 - val_accuracy: 0.8730\n",
            "Epoch 11/25\n",
            "1313/1313 [==============================] - 28s 22ms/step - loss: 0.3030 - accuracy: 0.8903 - val_loss: 0.3234 - val_accuracy: 0.8827\n",
            "Epoch 12/25\n",
            "1313/1313 [==============================] - 28s 22ms/step - loss: 0.2952 - accuracy: 0.8934 - val_loss: 0.3126 - val_accuracy: 0.8883\n",
            "Epoch 13/25\n",
            "1313/1313 [==============================] - 28s 22ms/step - loss: 0.2857 - accuracy: 0.8970 - val_loss: 0.3084 - val_accuracy: 0.8907\n",
            "Epoch 14/25\n",
            "1313/1313 [==============================] - 28s 22ms/step - loss: 0.2744 - accuracy: 0.9020 - val_loss: 0.3161 - val_accuracy: 0.8921\n",
            "Epoch 15/25\n",
            "1313/1313 [==============================] - 28s 22ms/step - loss: 0.2666 - accuracy: 0.9032 - val_loss: 0.3098 - val_accuracy: 0.8921\n",
            "Epoch 16/25\n",
            "1313/1313 [==============================] - 28s 22ms/step - loss: 0.2593 - accuracy: 0.9061 - val_loss: 0.3186 - val_accuracy: 0.8912\n",
            "Epoch 17/25\n",
            "1313/1313 [==============================] - 28s 22ms/step - loss: 0.2533 - accuracy: 0.9094 - val_loss: 0.3194 - val_accuracy: 0.8919\n",
            "Epoch 18/25\n",
            "1313/1313 [==============================] - 28s 22ms/step - loss: 0.2452 - accuracy: 0.9106 - val_loss: 0.3258 - val_accuracy: 0.8922\n",
            "Epoch 19/25\n",
            "1313/1313 [==============================] - 28s 22ms/step - loss: 0.2381 - accuracy: 0.9136 - val_loss: 0.3305 - val_accuracy: 0.8897\n",
            "Epoch 20/25\n",
            "1313/1313 [==============================] - 28s 21ms/step - loss: 0.2295 - accuracy: 0.9152 - val_loss: 0.3396 - val_accuracy: 0.8921\n",
            "Epoch 21/25\n",
            "1313/1313 [==============================] - 28s 22ms/step - loss: 0.2263 - accuracy: 0.9150 - val_loss: 0.3378 - val_accuracy: 0.8928\n",
            "Epoch 22/25\n",
            "1313/1313 [==============================] - 29s 22ms/step - loss: 0.2216 - accuracy: 0.9187 - val_loss: 0.3444 - val_accuracy: 0.8861\n",
            "Epoch 23/25\n",
            "1313/1313 [==============================] - 28s 22ms/step - loss: 0.2159 - accuracy: 0.9209 - val_loss: 0.3306 - val_accuracy: 0.8923\n",
            "Epoch 24/25\n",
            "1313/1313 [==============================] - 28s 22ms/step - loss: 0.2115 - accuracy: 0.9218 - val_loss: 0.3485 - val_accuracy: 0.8911\n",
            "Epoch 25/25\n",
            "1313/1313 [==============================] - 28s 22ms/step - loss: 0.2062 - accuracy: 0.9234 - val_loss: 0.3582 - val_accuracy: 0.8914\n",
            "313/313 [==============================] - 2s 7ms/step - loss: 0.4018 - accuracy: 0.8842\n"
          ]
        },
        {
          "output_type": "display_data",
          "data": {
            "image/png": "[encoded data removed]",
            "text/plain": [
              "<Figure size 576x576 with 9 Axes>"
            ]
          },
          "metadata": {
            "needs_background": "light"
          }
        },
        {
          "output_type": "display_data",
          "data": {
            "image/png": "[encoded data removed]",
            "text/plain": [
              "<Figure size 1152x360 with 2 Axes>"
            ]
          },
          "metadata": {
            "needs_background": "light"
          }
        },
        {
          "output_type": "stream",
          "name": "stdout",
          "text": [
            "> 88.420\n"
          ]
        }
      ]
    },
    {
      "cell_type": "markdown",
      "metadata": {
        "id": "Ba531sZQF-Vu"
      },
      "source": [
        "#**Augmenting the Data**"
      ]
    },
    {
      "cell_type": "code",
      "metadata": {
        "id": "nFjqrpw3GIBD"
      },
      "source": [
        "def data_augmentation():\n",
        "  train_datagen = ImageDataGenerator(\n",
        "    rotation_range = 40,\n",
        "    width_shift_range = 0.2,\n",
        "    height_shift_range = 0.2, \n",
        "    shear_range = 0.2,\n",
        "    zoom_range = 0.2, \n",
        "    horizontal_flip = True,\n",
        "    fill_mode = 'nearest'\n",
        "  )\n",
        "\n",
        "  test_datagen = ImageDataGenerator(rescale=1./255)\n",
        "\n",
        "  train_generator = train_datagen.flow_from_directory(\n",
        "        'drive/MyDrive/data/hymenoptera_data/train',  \n",
        "        target_size=(224, 224), \n",
        "        batch_size=16,\n",
        "        class_mode='binary')  \n",
        "\n",
        "  validation_generator = test_datagen.flow_from_directory(\n",
        "        'drive/MyDrive/data/hymenoptera_data/val',\n",
        "        target_size=(224, 224),\n",
        "        batch_size=16,\n",
        "        class_mode='binary')\n",
        "  return train_generator, validation_generator"
      ],
      "execution_count": 129,
      "outputs": []
    },
    {
      "cell_type": "code",
      "metadata": {
        "id": "IZk3wXiZd7Yt"
      },
      "source": [
        "def binary_model():\n",
        "  model = Sequential()\n",
        "  model.add(Conv2D(32, (3, 3), input_shape = (224,224, 3)))\n",
        "  model.add(Activation('relu'))\n",
        "  model.add(MaxPooling2D(pool_size=(2, 2)))\n",
        "\n",
        "  model.add(Conv2D(32, (3, 3)))\n",
        "  model.add(Activation('relu'))\n",
        "  model.add(MaxPooling2D(pool_size=(2, 2)))\n",
        "\n",
        "  model.add(Conv2D(64, (3, 3)))\n",
        "  model.add(Activation('relu'))\n",
        "  model.add(MaxPooling2D(pool_size=(2, 2)))\n",
        "\n",
        "  model.add(Flatten())\n",
        "  model.add(Dense(64))\n",
        "  model.add(Activation('relu'))\n",
        "  model.add(Dropout(0.5))\n",
        "  model.add(Dense(1))\n",
        "  model.add(Activation('sigmoid'))\n",
        "  model.compile(loss='binary_crossentropy',\n",
        "              optimizer='rmsprop',\n",
        "              metrics=['accuracy'])\n",
        "  return model"
      ],
      "execution_count": 137,
      "outputs": []
    },
    {
      "cell_type": "code",
      "metadata": {
        "id": "QaYuRUocgBbm",
        "outputId": "2070ffe6-d12a-45d3-9f4d-52db40d0ff96",
        "colab": {
          "base_uri": "https://localhost:8080/"
        }
      },
      "source": [
        "model_binary = binary_model() \n",
        "train_generator, validation_generator = data_augmentation()\n",
        "\n",
        "history = model_binary.fit(x=train_generator,\n",
        "                        epochs=25,\n",
        "                        steps_per_epoch=16,\n",
        "                        validation_data=validation_generator)"
      ],
      "execution_count": 138,
      "outputs": [
        {
          "output_type": "stream",
          "name": "stdout",
          "text": [
            "Found 243 images belonging to 2 classes.\n",
            "Found 153 images belonging to 2 classes.\n",
            "Epoch 1/25\n",
            "16/16 [==============================] - 135s 9s/step - loss: 78.4450 - accuracy: 0.5309 - val_loss: 0.6928 - val_accuracy: 0.5490\n",
            "Epoch 2/25\n",
            "16/16 [==============================] - 15s 958ms/step - loss: 0.8223 - accuracy: 0.6173 - val_loss: 0.6928 - val_accuracy: 0.5425\n",
            "Epoch 3/25\n",
            "16/16 [==============================] - 15s 952ms/step - loss: 0.8260 - accuracy: 0.5514 - val_loss: 0.6935 - val_accuracy: 0.4641\n",
            "Epoch 4/25\n",
            "16/16 [==============================] - 15s 948ms/step - loss: 0.7806 - accuracy: 0.5679 - val_loss: 0.6948 - val_accuracy: 0.4575\n",
            "Epoch 5/25\n",
            "16/16 [==============================] - 15s 952ms/step - loss: 0.7691 - accuracy: 0.5309 - val_loss: 0.6955 - val_accuracy: 0.4575\n",
            "Epoch 6/25\n",
            "16/16 [==============================] - 15s 957ms/step - loss: 0.9495 - accuracy: 0.5473 - val_loss: 0.6952 - val_accuracy: 0.4575\n",
            "Epoch 7/25\n",
            "16/16 [==============================] - 15s 952ms/step - loss: 0.7604 - accuracy: 0.5226 - val_loss: 0.6959 - val_accuracy: 0.4575\n",
            "Epoch 8/25\n",
            "16/16 [==============================] - 15s 955ms/step - loss: 1.0790 - accuracy: 0.5021 - val_loss: 0.6962 - val_accuracy: 0.4575\n",
            "Epoch 9/25\n",
            "16/16 [==============================] - 15s 950ms/step - loss: 3.5292 - accuracy: 0.5021 - val_loss: 0.6966 - val_accuracy: 0.4575\n",
            "Epoch 10/25\n",
            "16/16 [==============================] - 15s 957ms/step - loss: 1.0019 - accuracy: 0.5226 - val_loss: 0.6967 - val_accuracy: 0.4575\n",
            "Epoch 11/25\n",
            "16/16 [==============================] - 15s 1000ms/step - loss: 1.0520 - accuracy: 0.5062 - val_loss: 0.6973 - val_accuracy: 0.4575\n",
            "Epoch 12/25\n",
            "16/16 [==============================] - 15s 941ms/step - loss: 0.7070 - accuracy: 0.5144 - val_loss: 0.6972 - val_accuracy: 0.4575\n",
            "Epoch 13/25\n",
            "16/16 [==============================] - 15s 943ms/step - loss: 0.7066 - accuracy: 0.5021 - val_loss: 0.6969 - val_accuracy: 0.4575\n",
            "Epoch 14/25\n",
            "16/16 [==============================] - 15s 949ms/step - loss: 0.6897 - accuracy: 0.5761 - val_loss: 0.6965 - val_accuracy: 0.4575\n",
            "Epoch 15/25\n",
            "16/16 [==============================] - 15s 950ms/step - loss: 0.7193 - accuracy: 0.4650 - val_loss: 0.6971 - val_accuracy: 0.4575\n",
            "Epoch 16/25\n",
            "16/16 [==============================] - 15s 946ms/step - loss: 0.7014 - accuracy: 0.4938 - val_loss: 0.6971 - val_accuracy: 0.4575\n",
            "Epoch 17/25\n",
            "16/16 [==============================] - 15s 952ms/step - loss: 0.9921 - accuracy: 0.5021 - val_loss: 0.6965 - val_accuracy: 0.4575\n",
            "Epoch 18/25\n",
            "16/16 [==============================] - 15s 948ms/step - loss: 1.9031 - accuracy: 0.5556 - val_loss: 0.6968 - val_accuracy: 0.4510\n",
            "Epoch 19/25\n",
            "16/16 [==============================] - 15s 949ms/step - loss: 2.7179 - accuracy: 0.5103 - val_loss: 0.6931 - val_accuracy: 0.4706\n",
            "Epoch 20/25\n",
            "16/16 [==============================] - 15s 954ms/step - loss: 0.7512 - accuracy: 0.5267 - val_loss: 0.6969 - val_accuracy: 0.4444\n",
            "Epoch 21/25\n",
            "16/16 [==============================] - 15s 957ms/step - loss: 1.1212 - accuracy: 0.4979 - val_loss: 0.6972 - val_accuracy: 0.4379\n",
            "Epoch 22/25\n",
            "16/16 [==============================] - 15s 958ms/step - loss: 0.6974 - accuracy: 0.5309 - val_loss: 0.6972 - val_accuracy: 0.4379\n",
            "Epoch 23/25\n",
            "16/16 [==============================] - 15s 947ms/step - loss: 1.0627 - accuracy: 0.5432 - val_loss: 0.6964 - val_accuracy: 0.4510\n",
            "Epoch 24/25\n",
            "16/16 [==============================] - 15s 937ms/step - loss: 0.6886 - accuracy: 0.5432 - val_loss: 0.6972 - val_accuracy: 0.4444\n",
            "Epoch 25/25\n",
            "16/16 [==============================] - 15s 938ms/step - loss: 0.7071 - accuracy: 0.5021 - val_loss: 0.6971 - val_accuracy: 0.4444\n"
          ]
        }
      ]
    },
    {
      "cell_type": "code",
      "metadata": {
        "id": "PfGw8NtGmLrm",
        "outputId": "067e6b4c-ccbb-44f2-b42d-9e58c96d436d",
        "colab": {
          "base_uri": "https://localhost:8080/",
          "height": 251
        }
      },
      "source": [
        " plot_training(history)"
      ],
      "execution_count": 139,
      "outputs": [
        {
          "output_type": "display_data",
          "data": {
            "image/png": "[encoded data removed]",
            "text/plain": [
              "<Figure size 1152x360 with 2 Axes>"
            ]
          },
          "metadata": {
            "needs_background": "light"
          }
        }
      ]
    }
  ]
}